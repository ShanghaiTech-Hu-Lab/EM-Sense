{
 "cells": [
  {
   "cell_type": "code",
   "execution_count": 1,
   "metadata": {},
   "outputs": [
    {
     "name": "stderr",
     "output_type": "stream",
     "text": [
      "/mnt/e/workspace/ssss/EMSSDU/AdmmRecon/AdmmBlock.py:71: SyntaxWarning: invalid escape sequence '\\m'\n",
      "  \"\"\"\n"
     ]
    }
   ],
   "source": [
    "from AdmmRecon import ADMM"
   ]
  },
  {
   "cell_type": "code",
   "execution_count": 2,
   "metadata": {},
   "outputs": [
    {
     "name": "stdout",
     "output_type": "stream",
     "text": [
      "2 1\n",
      "64 64\n",
      "64 1\n",
      "128 1\n",
      "64 1\n",
      "80 1\n",
      "64 64\n",
      "64 1\n",
      "128 1\n",
      "64 1\n",
      "80 1\n",
      "64 64\n",
      "64 1\n",
      "128 1\n",
      "64 1\n",
      "80 1\n",
      "64 64\n",
      "64 1\n",
      "128 1\n",
      "64 1\n",
      "80 1\n",
      "64 64\n",
      "64 1\n",
      "128 1\n",
      "64 1\n",
      "80 1\n",
      "64 1\n",
      "15 1\n",
      "64 64\n",
      "64 1\n",
      "128 1\n",
      "64 1\n",
      "80 1\n",
      "64 64\n",
      "64 1\n",
      "128 1\n",
      "64 1\n",
      "80 1\n",
      "64 64\n",
      "64 1\n",
      "128 1\n",
      "64 1\n",
      "80 1\n",
      "64 1\n",
      "15 1\n",
      "64 64\n",
      "64 1\n",
      "128 1\n",
      "64 1\n",
      "80 1\n",
      "64 64\n",
      "64 1\n",
      "128 1\n",
      "64 1\n",
      "80 1\n",
      "64 64\n",
      "64 1\n",
      "128 1\n",
      "64 1\n",
      "80 1\n",
      "64 1\n"
     ]
    },
    {
     "name": "stderr",
     "output_type": "stream",
     "text": [
      "/home/shang/miniconda3/envs/new/lib/python3.12/site-packages/lightning/pytorch/utilities/parsing.py:208: Attribute 'act' is an instance of `nn.Module` and is already saved during checkpointing. It is recommended to ignore them using `self.save_hyperparameters(ignore=['act'])`.\n"
     ]
    }
   ],
   "source": [
    "model = ADMM()"
   ]
  }
 ],
 "metadata": {
  "kernelspec": {
   "display_name": "new",
   "language": "python",
   "name": "python3"
  },
  "language_info": {
   "codemirror_mode": {
    "name": "ipython",
    "version": 3
   },
   "file_extension": ".py",
   "mimetype": "text/x-python",
   "name": "python",
   "nbconvert_exporter": "python",
   "pygments_lexer": "ipython3",
   "version": "3.12.2"
  }
 },
 "nbformat": 4,
 "nbformat_minor": 2
}
